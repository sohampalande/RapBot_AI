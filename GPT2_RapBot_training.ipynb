{
  "nbformat": 4,
  "nbformat_minor": 0,
  "metadata": {
    "colab": {
      "name": "GPT2_RapBot_training.ipynb",
      "provenance": [],
      "collapsed_sections": []
    },
    "kernelspec": {
      "name": "python3",
      "display_name": "Python 3"
    },
    "accelerator": "GPU"
  },
  "cells": [
    {
      "cell_type": "code",
      "metadata": {
        "id": "MzBJgDR-0tmT",
        "colab_type": "code",
        "colab": {}
      },
      "source": [
        "!git clone https://github.com/nshepperd/gpt-2.git"
      ],
      "execution_count": 0,
      "outputs": []
    },
    {
      "cell_type": "code",
      "metadata": {
        "id": "gSkbJQmt1FOI",
        "colab_type": "code",
        "colab": {
          "base_uri": "https://localhost:8080/",
          "height": 35
        },
        "outputId": "22d6b6f1-1000-4789-c149-725930d079be"
      },
      "source": [
        "cd gpt-2"
      ],
      "execution_count": 5,
      "outputs": [
        {
          "output_type": "stream",
          "text": [
            "/content/gpt-2\n"
          ],
          "name": "stdout"
        }
      ]
    },
    {
      "cell_type": "code",
      "metadata": {
        "id": "PuvPN56r3VEu",
        "colab_type": "code",
        "colab": {}
      },
      "source": [
        "!pip3 install -r requirements.txt"
      ],
      "execution_count": 0,
      "outputs": []
    },
    {
      "cell_type": "code",
      "metadata": {
        "id": "gk0PoGg53ZOV",
        "colab_type": "code",
        "colab": {}
      },
      "source": [
        "from google.colab import drive\n",
        "drive.mount('/content/drive')"
      ],
      "execution_count": 0,
      "outputs": []
    },
    {
      "cell_type": "code",
      "metadata": {
        "id": "EQv3CS_Q40DF",
        "colab_type": "code",
        "colab": {}
      },
      "source": [
        "!export PYTHONIOENCODING=UTF-8"
      ],
      "execution_count": 0,
      "outputs": []
    },
    {
      "cell_type": "code",
      "metadata": {
        "id": "mQVX_ega5ECQ",
        "colab_type": "code",
        "colab": {}
      },
      "source": [
        "!python3 download_model.py 345M"
      ],
      "execution_count": 0,
      "outputs": []
    },
    {
      "cell_type": "code",
      "metadata": {
        "id": "MK28Dgjq5IaE",
        "colab_type": "code",
        "colab": {}
      },
      "source": [
        "!cp -r /content/drive/My\\ Drive/rap_training_data.txt /content/gpt-2/rap_training_data.txt"
      ],
      "execution_count": 0,
      "outputs": []
    },
    {
      "cell_type": "code",
      "metadata": {
        "id": "agJ4aErR5tfa",
        "colab_type": "code",
        "colab": {}
      },
      "source": [
        "!PYTHONPATH=src ./train.py --dataset /content/gpt-2/rap_training_data.txt --model_name '345M'"
      ],
      "execution_count": 0,
      "outputs": []
    },
    {
      "cell_type": "code",
      "metadata": {
        "id": "95ovqkDM7Zz9",
        "colab_type": "code",
        "colab": {}
      },
      "source": [
        "!cp -r /content/gpt-2/checkpoint/ /content/drive/My\\ Drive/rapping_ai \n"
      ],
      "execution_count": 0,
      "outputs": []
    },
    {
      "cell_type": "code",
      "metadata": {
        "id": "PM7ndgAzEVfW",
        "colab_type": "code",
        "colab": {}
      },
      "source": [
        "!cp -r /content/gpt-2/checkpoint/run1/* /content/gpt-2/models/345M/"
      ],
      "execution_count": 0,
      "outputs": []
    },
    {
      "cell_type": "code",
      "metadata": {
        "id": "4C-C5PQCFR2S",
        "colab_type": "code",
        "colab": {
          "base_uri": "https://localhost:8080/",
          "height": 1000
        },
        "outputId": "4d45d9e3-a2d3-4138-9e31-bf48b1041419"
      },
      "source": [
        "!python3 src/interactive_conditional_samples.py --top_k 40 --model_name \"345M\""
      ],
      "execution_count": 16,
      "outputs": [
        {
          "output_type": "stream",
          "text": [
            "WARNING:tensorflow:From /content/gpt-2/src/model.py:147: The name tf.AUTO_REUSE is deprecated. Please use tf.compat.v1.AUTO_REUSE instead.\n",
            "\n",
            "WARNING:tensorflow:From src/interactive_conditional_samples.py:55: The name tf.Session is deprecated. Please use tf.compat.v1.Session instead.\n",
            "\n",
            "2020-01-22 16:30:00.415714: I tensorflow/stream_executor/platform/default/dso_loader.cc:44] Successfully opened dynamic library libcuda.so.1\n",
            "2020-01-22 16:30:00.456900: I tensorflow/stream_executor/cuda/cuda_gpu_executor.cc:983] successful NUMA node read from SysFS had negative value (-1), but there must be at least one NUMA node, so returning NUMA node zero\n",
            "2020-01-22 16:30:00.457795: I tensorflow/core/common_runtime/gpu/gpu_device.cc:1618] Found device 0 with properties: \n",
            "name: Tesla P100-PCIE-16GB major: 6 minor: 0 memoryClockRate(GHz): 1.3285\n",
            "pciBusID: 0000:00:04.0\n",
            "2020-01-22 16:30:00.463567: I tensorflow/stream_executor/platform/default/dso_loader.cc:44] Successfully opened dynamic library libcudart.so.10.1\n",
            "2020-01-22 16:30:00.480492: I tensorflow/stream_executor/platform/default/dso_loader.cc:44] Successfully opened dynamic library libcublas.so.10\n",
            "2020-01-22 16:30:00.487113: I tensorflow/stream_executor/platform/default/dso_loader.cc:44] Successfully opened dynamic library libcufft.so.10\n",
            "2020-01-22 16:30:00.499672: I tensorflow/stream_executor/platform/default/dso_loader.cc:44] Successfully opened dynamic library libcurand.so.10\n",
            "2020-01-22 16:30:00.511887: I tensorflow/stream_executor/platform/default/dso_loader.cc:44] Successfully opened dynamic library libcusolver.so.10\n",
            "2020-01-22 16:30:00.515355: I tensorflow/stream_executor/platform/default/dso_loader.cc:44] Successfully opened dynamic library libcusparse.so.10\n",
            "2020-01-22 16:30:00.531398: I tensorflow/stream_executor/platform/default/dso_loader.cc:44] Successfully opened dynamic library libcudnn.so.7\n",
            "2020-01-22 16:30:00.531533: I tensorflow/stream_executor/cuda/cuda_gpu_executor.cc:983] successful NUMA node read from SysFS had negative value (-1), but there must be at least one NUMA node, so returning NUMA node zero\n",
            "2020-01-22 16:30:00.532163: I tensorflow/stream_executor/cuda/cuda_gpu_executor.cc:983] successful NUMA node read from SysFS had negative value (-1), but there must be at least one NUMA node, so returning NUMA node zero\n",
            "2020-01-22 16:30:00.532659: I tensorflow/core/common_runtime/gpu/gpu_device.cc:1746] Adding visible gpu devices: 0\n",
            "2020-01-22 16:30:00.540422: I tensorflow/core/platform/profile_utils/cpu_utils.cc:94] CPU Frequency: 2200000000 Hz\n",
            "2020-01-22 16:30:00.540598: I tensorflow/compiler/xla/service/service.cc:168] XLA service 0x1cfd100 initialized for platform Host (this does not guarantee that XLA will be used). Devices:\n",
            "2020-01-22 16:30:00.540624: I tensorflow/compiler/xla/service/service.cc:176]   StreamExecutor device (0): Host, Default Version\n",
            "2020-01-22 16:30:00.675025: I tensorflow/stream_executor/cuda/cuda_gpu_executor.cc:983] successful NUMA node read from SysFS had negative value (-1), but there must be at least one NUMA node, so returning NUMA node zero\n",
            "2020-01-22 16:30:00.675713: I tensorflow/compiler/xla/service/service.cc:168] XLA service 0x1cfd2c0 initialized for platform CUDA (this does not guarantee that XLA will be used). Devices:\n",
            "2020-01-22 16:30:00.675741: I tensorflow/compiler/xla/service/service.cc:176]   StreamExecutor device (0): Tesla P100-PCIE-16GB, Compute Capability 6.0\n",
            "2020-01-22 16:30:00.676046: I tensorflow/stream_executor/cuda/cuda_gpu_executor.cc:983] successful NUMA node read from SysFS had negative value (-1), but there must be at least one NUMA node, so returning NUMA node zero\n",
            "2020-01-22 16:30:00.676639: I tensorflow/core/common_runtime/gpu/gpu_device.cc:1618] Found device 0 with properties: \n",
            "name: Tesla P100-PCIE-16GB major: 6 minor: 0 memoryClockRate(GHz): 1.3285\n",
            "pciBusID: 0000:00:04.0\n",
            "2020-01-22 16:30:00.676712: I tensorflow/stream_executor/platform/default/dso_loader.cc:44] Successfully opened dynamic library libcudart.so.10.1\n",
            "2020-01-22 16:30:00.676737: I tensorflow/stream_executor/platform/default/dso_loader.cc:44] Successfully opened dynamic library libcublas.so.10\n",
            "2020-01-22 16:30:00.676758: I tensorflow/stream_executor/platform/default/dso_loader.cc:44] Successfully opened dynamic library libcufft.so.10\n",
            "2020-01-22 16:30:00.676778: I tensorflow/stream_executor/platform/default/dso_loader.cc:44] Successfully opened dynamic library libcurand.so.10\n",
            "2020-01-22 16:30:00.676804: I tensorflow/stream_executor/platform/default/dso_loader.cc:44] Successfully opened dynamic library libcusolver.so.10\n",
            "2020-01-22 16:30:00.676823: I tensorflow/stream_executor/platform/default/dso_loader.cc:44] Successfully opened dynamic library libcusparse.so.10\n",
            "2020-01-22 16:30:00.676843: I tensorflow/stream_executor/platform/default/dso_loader.cc:44] Successfully opened dynamic library libcudnn.so.7\n",
            "2020-01-22 16:30:00.676953: I tensorflow/stream_executor/cuda/cuda_gpu_executor.cc:983] successful NUMA node read from SysFS had negative value (-1), but there must be at least one NUMA node, so returning NUMA node zero\n",
            "2020-01-22 16:30:00.677531: I tensorflow/stream_executor/cuda/cuda_gpu_executor.cc:983] successful NUMA node read from SysFS had negative value (-1), but there must be at least one NUMA node, so returning NUMA node zero\n",
            "2020-01-22 16:30:00.678079: I tensorflow/core/common_runtime/gpu/gpu_device.cc:1746] Adding visible gpu devices: 0\n",
            "2020-01-22 16:30:00.678161: I tensorflow/stream_executor/platform/default/dso_loader.cc:44] Successfully opened dynamic library libcudart.so.10.1\n",
            "2020-01-22 16:30:00.679470: I tensorflow/core/common_runtime/gpu/gpu_device.cc:1159] Device interconnect StreamExecutor with strength 1 edge matrix:\n",
            "2020-01-22 16:30:00.679499: I tensorflow/core/common_runtime/gpu/gpu_device.cc:1165]      0 \n",
            "2020-01-22 16:30:00.679509: I tensorflow/core/common_runtime/gpu/gpu_device.cc:1178] 0:   N \n",
            "2020-01-22 16:30:00.679613: I tensorflow/stream_executor/cuda/cuda_gpu_executor.cc:983] successful NUMA node read from SysFS had negative value (-1), but there must be at least one NUMA node, so returning NUMA node zero\n",
            "2020-01-22 16:30:00.680194: I tensorflow/stream_executor/cuda/cuda_gpu_executor.cc:983] successful NUMA node read from SysFS had negative value (-1), but there must be at least one NUMA node, so returning NUMA node zero\n",
            "2020-01-22 16:30:00.680692: W tensorflow/core/common_runtime/gpu/gpu_bfc_allocator.cc:39] Overriding allow_growth setting because the TF_FORCE_GPU_ALLOW_GROWTH environment variable is set. Original config value was 0.\n",
            "2020-01-22 16:30:00.680730: I tensorflow/core/common_runtime/gpu/gpu_device.cc:1304] Created TensorFlow device (/job:localhost/replica:0/task:0/device:GPU:0 with 15216 MB memory) -> physical GPU (device: 0, name: Tesla P100-PCIE-16GB, pci bus id: 0000:00:04.0, compute capability: 6.0)\n",
            "WARNING:tensorflow:From src/interactive_conditional_samples.py:56: The name tf.placeholder is deprecated. Please use tf.compat.v1.placeholder instead.\n",
            "\n",
            "WARNING:tensorflow:From src/interactive_conditional_samples.py:58: The name tf.set_random_seed is deprecated. Please use tf.compat.v1.set_random_seed instead.\n",
            "\n",
            "WARNING:tensorflow:From /content/gpt-2/src/model.py:148: The name tf.variable_scope is deprecated. Please use tf.compat.v1.variable_scope instead.\n",
            "\n",
            "WARNING:tensorflow:From /content/gpt-2/src/model.py:152: The name tf.get_variable is deprecated. Please use tf.compat.v1.get_variable instead.\n",
            "\n",
            "WARNING:tensorflow:From /content/gpt-2/src/model.py:36: The name tf.rsqrt is deprecated. Please use tf.math.rsqrt instead.\n",
            "\n",
            "WARNING:tensorflow:From /content/gpt-2/src/model.py:166: The name tf.add_to_collection is deprecated. Please use tf.compat.v1.add_to_collection instead.\n",
            "\n",
            "WARNING:tensorflow:From /content/gpt-2/src/sample.py:65: to_float (from tensorflow.python.ops.math_ops) is deprecated and will be removed in a future version.\n",
            "Instructions for updating:\n",
            "Use `tf.cast` instead.\n",
            "WARNING:tensorflow:From /content/gpt-2/src/sample.py:16: where (from tensorflow.python.ops.array_ops) is deprecated and will be removed in a future version.\n",
            "Instructions for updating:\n",
            "Use tf.where in 2.0, which has the same broadcast rule as np.where\n",
            "WARNING:tensorflow:From /content/gpt-2/src/sample.py:70: multinomial (from tensorflow.python.ops.random_ops) is deprecated and will be removed in a future version.\n",
            "Instructions for updating:\n",
            "Use `tf.random.categorical` instead.\n",
            "WARNING:tensorflow:From src/interactive_conditional_samples.py:66: The name tf.train.Saver is deprecated. Please use tf.compat.v1.train.Saver instead.\n",
            "\n",
            "Model prompt >>> <<The Weeknd\n",
            "2020-01-22 16:30:39.443058: I tensorflow/stream_executor/platform/default/dso_loader.cc:44] Successfully opened dynamic library libcublas.so.10\n",
            "======================================== SAMPLE 1 ========================================\n",
            " — I Got It (feat. 2 Chainz) (Lyrics) (Acapella) ]\n",
            "\n",
            "If you wanna know how the past is going on me\n",
            "\n",
            "I just wanna tell yo' bros and niggas that I can get it\n",
            "\n",
            "I don't need your money, I just got to get it\n",
            "\n",
            "And I need it at the same time that you got it\n",
            "\n",
            "But I ain't worried about it\n",
            "\n",
            "I'm getting it, but I ain't got no spare change\n",
            "\n",
            "And so I just keep on doing what I'm doin' every single day\n",
            "\n",
            "For those who ain't even had enough cash to buy a pack\n",
            "\n",
            "To give you some more cash to hold, cause they ain't even got enough change\n",
            "\n",
            "But I'm already on my way to getting to it\n",
            "\n",
            "\n",
            "\n",
            "[Outro]\n",
            "\n",
            "\n",
            "\n",
            "[Verse 2: Tyler, the Creator ]\n",
            "\n",
            "I know it ain't always been easy, but I'm finally making it\n",
            "\n",
            "I got myself in a position where I don't have to worry\n",
            "\n",
            "All I do, I just do\n",
            "\n",
            "My whole life, I don't even bother with no regrets, because I'm in the right\n",
            "\n",
            "And my whole world, I don't even mind getting to it\n",
            "\n",
            "Cause I ain't got no regrets and got the thing that I wanna live for\n",
            "\n",
            "I ain't got no regrets, and I ain't got no feelings\n",
            "\n",
            "I'm already on my way to getting to it\n",
            "\n",
            "And I ain't got no regrets, and I ain't got no feelings\n",
            "\n",
            "My whole life, I don't even bother with no regrets\n",
            "\n",
            "My whole world, I don't even care 'bout it\n",
            "\n",
            "I ain't got no regrets, I even get it\n",
            "\n",
            "I ain't got no feelings, all I do is the thing that I've always done\n",
            "\n",
            "It's alright, it's alright, it's alright\n",
            "\n",
            "Oh, it's alright, it's alright, alright\n",
            "\n",
            "\n",
            "\n",
            "[Chorus: 2 Chainz/Tyler, the Creator]\n",
            "\n",
            "Hey! Hey! Hey! Hey, this is Tyler the Creator, ain't nobody trying to take you from me\n",
            "\n",
            "Hey! Hey!' Yeah, yeah, yeah, yeah, yeah\n",
            "\n",
            "Hey! Hey! Hey! Hey! Hey, this is Tyler the Creator, ain't nobody trying to take you from me\n",
            "\n",
            "Hey! Hey! Hey! Hey!\n",
            "================================================================================\n",
            "Model prompt >>> <<Drake\n",
            "======================================== SAMPLE 1 ========================================\n",
            ">\n",
            "**************************************************\n",
            "<<Sno’ West - I’m High So I Dont Go To The Movies (L-O-V-E)>>\n",
            "\n",
            "\n",
            "\n",
            "(Verse 1)\n",
            "\n",
            "\n",
            "\n",
            "(I could have never seen a movie for the first time\n",
            "\n",
            "I couldn't even hear my mommy scream at the top\n",
            "\n",
            "I couldn't even do nothing except pretend\n",
            "\n",
            "I tried to get a seat and go on vacation\n",
            "\n",
            "But they only took me to the front of the theater\n",
            "\n",
            "Bitch, they knew that I wouldn't see it until I was in it (Well I ain't gonna lie\n",
            "\n",
            "Fuck them)\n",
            "\n",
            "I could watch them in my mind while they're going through me\n",
            "\n",
            "And the shit they got to say I didn't even notice (Well I ain't gonna lie)\n",
            "\n",
            "But the last time I was there was with you (It's not that good)\n",
            "\n",
            "You didn't have to do this for the rest of my life (You were mad? I was mad)\n",
            "\n",
            "I hope the people can see how you treat this baby\n",
            "\n",
            "And don't you ever talk to me about not buying me a drink\n",
            "\n",
            "I'm in this now, why should I waste mine trying to act like me?\n",
            "\n",
            "You don't have to be that stupid nigga who don't see the funny side\n",
            "\n",
            "I said \"No way\"\n",
            "\n",
            "Why should I waste my time telling my friend I should have watched that movie\n",
            "\n",
            "\n",
            "\n",
            "(Interlude)\n",
            "\n",
            "I ain't no faker, but I see\n",
            "\n",
            "There's no time for me to try my luck at the movies\n",
            "\n",
            "(But you'll never forget it if I keep trying)\n",
            "\n",
            "I should have known you would take my time to look in the mirror\n",
            "\n",
            "And when all the lights came up\n",
            "\n",
            "I think, \"This could have been me\"\n",
            "\n",
            "I don't know\n",
            "\n",
            "'til I'm sitting in a theater, I ain't ever felt like I was high\n",
            "\n",
            "I can barely remember, but I'm trying to remember your face\n",
            "\n",
            "I never heard you say, \"That shit is so sick\"\n",
            "\n",
            "'Cause I only thought you'd be mad if you ever wanted me to\n",
            "\n",
            "But I was too busy listening to the music to think about the music. It was almost as if your words and music were making me sick with jealousy\n",
            "\n",
            "I just was so mad that you thought I'd\n",
            "================================================================================\n",
            "Model prompt >>> Traceback (most recent call last):\n",
            "  File \"/usr/lib/python3.6/contextlib.py\", line 99, in __exit__\n",
            "    self.gen.throw(type, value, traceback)\n",
            "  File \"/usr/local/lib/python3.6/dist-packages/tensorflow_core/python/framework/ops.py\", line 5480, in get_controller\n",
            "    yield g\n",
            "  File \"src/interactive_conditional_samples.py\", line 71, in interact_model\n",
            "    raw_text = input(\"Model prompt >>> \")\n",
            "KeyboardInterrupt\n",
            "\n",
            "During handling of the above exception, another exception occurred:\n",
            "\n",
            "Traceback (most recent call last):\n",
            "  File \"src/interactive_conditional_samples.py\", line 89, in <module>\n",
            "    fire.Fire(interact_model)\n",
            "  File \"/usr/local/lib/python3.6/dist-packages/fire/core.py\", line 138, in Fire\n",
            "    component_trace = _Fire(component, args, parsed_flag_args, context, name)\n",
            "  File \"/usr/local/lib/python3.6/dist-packages/fire/core.py\", line 471, in _Fire\n",
            "    target=component.__name__)\n",
            "  File \"/usr/local/lib/python3.6/dist-packages/fire/core.py\", line 675, in _CallAndUpdateTrace\n",
            "    component = fn(*varargs, **kwargs)\n",
            "  File \"src/interactive_conditional_samples.py\", line 86, in interact_model\n",
            "    print(\"=\" * 80)\n",
            "  File \"/usr/local/lib/python3.6/dist-packages/tensorflow_core/python/client/session.py\", line 1633, in __exit__\n",
            "    close_thread.start()\n",
            "  File \"/usr/lib/python3.6/threading.py\", line 851, in start\n",
            "    self._started.wait()\n",
            "  File \"/usr/lib/python3.6/threading.py\", line 551, in wait\n",
            "    signaled = self._cond.wait(timeout)\n",
            "  File \"/usr/lib/python3.6/threading.py\", line 295, in wait\n",
            "    waiter.acquire()\n",
            "KeyboardInterrupt\n"
          ],
          "name": "stdout"
        }
      ]
    },
    {
      "cell_type": "code",
      "metadata": {
        "id": "6GfqKoJlFrK9",
        "colab_type": "code",
        "colab": {}
      },
      "source": [
        ""
      ],
      "execution_count": 0,
      "outputs": []
    }
  ]
}